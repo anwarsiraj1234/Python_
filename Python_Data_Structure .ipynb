{
 "cells": [
  {
   "cell_type": "markdown",
   "id": "3df4f23b",
   "metadata": {},
   "source": [
    "# data structures ----> data storing containers\n",
    "1.lists  --->mutable-->changeable-->can be deleted elemnets\n",
    "2.tuple ---->immutable\n",
    "3.distionaries--- mutable\n",
    "4.sets --->mutable\n",
    "5.Strings----> immuatble\n",
    "\n",
    "1.lists:\n",
    "data structures ----> data storing containers\n",
    "1.lists  --->mutable-->changeable-->can be deleted elemnets\n",
    "2.tuple ---->immutable\n",
    "3.distionaries--- mutable\n",
    "4.sets --->mutable\n",
    "5.Strings----> immuatble\n",
    "\n",
    "1.lists:\n",
    "lst=[1,'str',3]  --->0,1,2\n",
    "#how to access elements\n",
    "#slicing can be done using indexing\n",
    "print(lst[0])\n",
    "print(lst[0:2])\n",
    "print(lst[-1])\n",
    "print(lst[-3:-1])"
   ]
  },
  {
   "cell_type": "code",
   "execution_count": 4,
   "id": "3eb7279b",
   "metadata": {},
   "outputs": [
    {
     "name": "stdout",
     "output_type": "stream",
     "text": [
      "str\n",
      "[2, 'str']\n",
      "str\n",
      "[2, 'str']\n"
     ]
    }
   ],
   "source": [
    "lst=[1,'str',3] # --->0,1,2\n",
    "#how to access elements\n",
    "#slicing can be done using indexing\n",
    "lst[0] = 2\n",
    "print(lst[1])\n",
    "print(lst[0:2])\n",
    "print(lst[-2])\n",
    "print(lst[-3:-1])"
   ]
  },
  {
   "cell_type": "code",
   "execution_count": 6,
   "id": "ca4c3b97",
   "metadata": {},
   "outputs": [
    {
     "name": "stdout",
     "output_type": "stream",
     "text": [
      "1\n",
      "(1, 'str')\n",
      "3\n",
      "(1, 'str')\n"
     ]
    }
   ],
   "source": [
    "Tuple=(1,'str',3) # --->0,1,2\n",
    "#how to access elements\n",
    "#slicing can be done using indexing \n",
    "print(Tuple[0])\n",
    "print(Tuple[0:2])\n",
    "print(Tuple[-1])\n",
    "print(Tuple[-3:-1])"
   ]
  },
  {
   "cell_type": "code",
   "execution_count": 7,
   "id": "bc64d4a6",
   "metadata": {},
   "outputs": [
    {
     "ename": "TypeError",
     "evalue": "'tuple' object does not support item assignment",
     "output_type": "error",
     "traceback": [
      "\u001b[1;31m---------------------------------------------------------------------------\u001b[0m",
      "\u001b[1;31mTypeError\u001b[0m                                 Traceback (most recent call last)",
      "Cell \u001b[1;32mIn[7], line 4\u001b[0m\n\u001b[0;32m      1\u001b[0m Tuple\u001b[38;5;241m=\u001b[39m(\u001b[38;5;241m1\u001b[39m,\u001b[38;5;124m'\u001b[39m\u001b[38;5;124mstr\u001b[39m\u001b[38;5;124m'\u001b[39m,\u001b[38;5;241m3\u001b[39m) \u001b[38;5;66;03m# --->0,1,2\u001b[39;00m\n\u001b[0;32m      2\u001b[0m \u001b[38;5;66;03m#how to access elements\u001b[39;00m\n\u001b[0;32m      3\u001b[0m \u001b[38;5;66;03m#slicing can be done using indexing\u001b[39;00m\n\u001b[1;32m----> 4\u001b[0m Tuple[\u001b[38;5;241m1\u001b[39m] \u001b[38;5;241m=\u001b[39m \u001b[38;5;241m2\u001b[39m  \n\u001b[0;32m      5\u001b[0m \u001b[38;5;28mprint\u001b[39m(Tuple[\u001b[38;5;241m0\u001b[39m])\n\u001b[0;32m      6\u001b[0m \u001b[38;5;28mprint\u001b[39m(Tuple[\u001b[38;5;241m0\u001b[39m:\u001b[38;5;241m2\u001b[39m])\n",
      "\u001b[1;31mTypeError\u001b[0m: 'tuple' object does not support item assignment"
     ]
    }
   ],
   "source": [
    "Tuple=(1,'str',3) # --->0,1,2\n",
    "#how to access elements\n",
    "#slicing can be done using indexing\n",
    "Tuple[1] = 2  \n",
    "print(Tuple[0])\n",
    "print(Tuple[0:2])\n",
    "print(Tuple[-1])\n",
    "print(Tuple[-3:-1])"
   ]
  },
  {
   "cell_type": "code",
   "execution_count": 9,
   "id": "932ef969",
   "metadata": {},
   "outputs": [
    {
     "name": "stdout",
     "output_type": "stream",
     "text": [
      "1\n",
      "1s\n",
      "3\n",
      "tr\n"
     ]
    }
   ],
   "source": [
    "string= '1str3' # --->0,1,2\n",
    "#how to access elements\n",
    "#slicing can be done using indexing\n",
    "\n",
    "print(string[0])\n",
    "print(string[0:2])\n",
    "print(string[-1])\n",
    "print(string[-3:-1])"
   ]
  },
  {
   "cell_type": "code",
   "execution_count": 10,
   "id": "e976944e",
   "metadata": {},
   "outputs": [
    {
     "ename": "TypeError",
     "evalue": "'str' object does not support item assignment",
     "output_type": "error",
     "traceback": [
      "\u001b[1;31m---------------------------------------------------------------------------\u001b[0m",
      "\u001b[1;31mTypeError\u001b[0m                                 Traceback (most recent call last)",
      "Cell \u001b[1;32mIn[10], line 4\u001b[0m\n\u001b[0;32m      1\u001b[0m string\u001b[38;5;241m=\u001b[39m \u001b[38;5;124m'\u001b[39m\u001b[38;5;124m1str3\u001b[39m\u001b[38;5;124m'\u001b[39m \u001b[38;5;66;03m# --->0,1,2  \u001b[39;00m\n\u001b[0;32m      2\u001b[0m \u001b[38;5;66;03m#how to access elements\u001b[39;00m\n\u001b[0;32m      3\u001b[0m \u001b[38;5;66;03m#slicing can be done using indexing\u001b[39;00m\n\u001b[1;32m----> 4\u001b[0m string[\u001b[38;5;241m1\u001b[39m] \u001b[38;5;241m=\u001b[39m \u001b[38;5;241m2\u001b[39m  \n\u001b[0;32m      5\u001b[0m \u001b[38;5;28mprint\u001b[39m(string[\u001b[38;5;241m0\u001b[39m])\n\u001b[0;32m      6\u001b[0m \u001b[38;5;28mprint\u001b[39m(string[\u001b[38;5;241m0\u001b[39m:\u001b[38;5;241m2\u001b[39m])\n",
      "\u001b[1;31mTypeError\u001b[0m: 'str' object does not support item assignment"
     ]
    }
   ],
   "source": [
    "string= '1str3' # --->0,1,2  \n",
    "#how to access elements\n",
    "#slicing can be done using indexing\n",
    "string[1] = 2  \n",
    "print(string[0])\n",
    "print(string[0:2])\n",
    "print(string[-1])\n",
    "print(string[-3:-1])"
   ]
  },
  {
   "cell_type": "code",
   "execution_count": 15,
   "id": "9b005791",
   "metadata": {},
   "outputs": [
    {
     "name": "stdout",
     "output_type": "stream",
     "text": [
      "Anwar\n",
      "2\n",
      "Miss Saba\n"
     ]
    }
   ],
   "source": [
    "dic= {0:\"Anwar\",1:\"2\",2: \"Miss Saba\"} # --->0,1,2\n",
    "#how to access elements\n",
    "#slicing can not be done by using indexing  \n",
    "for i in dic:                       # for loop use for iterating the elements.\n",
    "    print(dic[i])\n"
   ]
  },
  {
   "cell_type": "code",
   "execution_count": 17,
   "id": "d4d5bd87",
   "metadata": {},
   "outputs": [
    {
     "name": "stdout",
     "output_type": "stream",
     "text": [
      "0 Anwar\n",
      "11 2\n",
      "2 Miss Saba\n"
     ]
    }
   ],
   "source": [
    "dic= {0:\"Anwar\",11:\"2\",2: \"Miss Saba\"} # --->0,1,2  The value of key in dictionary \n",
    "#how to access elements\n",
    "#slicing can not be done by using indexing  \n",
    "for i in dic:                       # for loop use for iterating the elements.\n",
    "    print(i,dic[i])"
   ]
  },
  {
   "cell_type": "code",
   "execution_count": 19,
   "id": "6f517d66",
   "metadata": {},
   "outputs": [
    {
     "name": "stdout",
     "output_type": "stream",
     "text": [
      "0\n",
      "1\n",
      "2\n",
      "karachi\n",
      "Miss Saba\n",
      "Anwar\n"
     ]
    }
   ],
   "source": [
    "Set = {0,\"Anwar\",1,2,2, \"Miss Saba\",\"karachi\"} # --->0,1,2 \n",
    "#how to access elements,Set is immutable \n",
    "#slicing can not be perform while doing operation of Set in Python.  \n",
    "for i in Set:                       # for loop use for iterating the elements.\n",
    "    print(i)"
   ]
  },
  {
   "cell_type": "code",
   "execution_count": 20,
   "id": "add4f4de",
   "metadata": {},
   "outputs": [
    {
     "name": "stdout",
     "output_type": "stream",
     "text": [
      "0\n"
     ]
    },
    {
     "ename": "TypeError",
     "evalue": "'set' object does not support item assignment",
     "output_type": "error",
     "traceback": [
      "\u001b[1;31m---------------------------------------------------------------------------\u001b[0m",
      "\u001b[1;31mTypeError\u001b[0m                                 Traceback (most recent call last)",
      "Cell \u001b[1;32mIn[20], line 6\u001b[0m\n\u001b[0;32m      4\u001b[0m \u001b[38;5;28;01mfor\u001b[39;00m i \u001b[38;5;129;01min\u001b[39;00m Set:                       \u001b[38;5;66;03m# for loop use for iterating the elements.\u001b[39;00m\n\u001b[0;32m      5\u001b[0m     \u001b[38;5;28mprint\u001b[39m(i)\n\u001b[1;32m----> 6\u001b[0m     Set[\u001b[38;5;241m0\u001b[39m]\u001b[38;5;241m=\u001b[39m\u001b[38;5;241m10\u001b[39m\n\u001b[0;32m      7\u001b[0m     \u001b[38;5;28mprint\u001b[39m(i)\n",
      "\u001b[1;31mTypeError\u001b[0m: 'set' object does not support item assignment"
     ]
    }
   ],
   "source": [
    "Set = {0,\"Anwar\",1,2,2, \"Miss Saba\",\"karachi\"} # --->0,1,2 \n",
    "#how to access elements,Set is immutable \n",
    "#slicing can not be perform while doing operation of Set in Python.  \n",
    "for i in Set:                       # for loop use for iterating the elements.\n",
    "    print(i)\n",
    "    Set[0]=10   # because Set is immutable \n",
    "    print(i)"
   ]
  },
  {
   "cell_type": "code",
   "execution_count": null,
   "id": "337c2d48",
   "metadata": {},
   "outputs": [],
   "source": []
  },
  {
   "cell_type": "code",
   "execution_count": null,
   "id": "272700dd",
   "metadata": {},
   "outputs": [],
   "source": []
  }
 ],
 "metadata": {
  "kernelspec": {
   "display_name": "Python 3 (ipykernel)",
   "language": "python",
   "name": "python3"
  },
  "language_info": {
   "codemirror_mode": {
    "name": "ipython",
    "version": 3
   },
   "file_extension": ".py",
   "mimetype": "text/x-python",
   "name": "python",
   "nbconvert_exporter": "python",
   "pygments_lexer": "ipython3",
   "version": "3.11.4"
  }
 },
 "nbformat": 4,
 "nbformat_minor": 5
}
